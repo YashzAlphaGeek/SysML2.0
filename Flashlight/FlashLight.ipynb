{
 "cells": [
  {
   "cell_type": "code",
   "execution_count": 23,
   "id": "34bbc8af",
   "metadata": {},
   "outputs": [
    {
     "data": {
      "text/plain": [
       "Package Yashwanth (c2796ff3-91b7-4224-b876-5fbe500c9041)\n"
      ]
     },
     "execution_count": 23,
     "metadata": {},
     "output_type": "execute_result"
    }
   ],
   "source": [
    "package Yashwanth {\n",
    "    \n",
    "  import ScalarValues::*;\n",
    "\tpart def Vehicle {\n",
    "\t\tprivate attribute length : ScalarValues::Real;\n",
    "\t\tprivate attribute weight : ScalarValues::Real;\n",
    "\t}\n",
    "\tpart def Car specializes Vehicle{}\n",
    "\tpart def Bike specializes Vehicle{}\n",
    "\tpart def Train specializes Vehicle{}\n",
    "    \n",
    "}\n"
   ]
  },
  {
   "cell_type": "code",
   "execution_count": 24,
   "id": "effb073d",
   "metadata": {},
   "outputs": [
    {
     "data": {
      "image/svg+xml": [
       "<?xml version=\"1.0\" encoding=\"UTF-8\" standalone=\"no\"?><svg xmlns=\"http://www.w3.org/2000/svg\" xmlns:xlink=\"http://www.w3.org/1999/xlink\" contentStyleType=\"text/css\" height=\"273px\" preserveAspectRatio=\"none\" style=\"width:315px;height:273px;background:#FFFFFF;\" version=\"1.1\" viewBox=\"0 0 315 273\" width=\"315px\" zoomAndPan=\"magnify\"><defs/><g><!--MD5=[fbc87193dbaf4d95561dea2c320d4a47]\n",
       "cluster E1--><g id=\"cluster_E1\"><a href=\"psysml:c2796ff3-91b7-4224-b876-5fbe500c9041\" target=\"_top\" title=\"psysml:c2796ff3-91b7-4224-b876-5fbe500c9041\" xlink:actuate=\"onRequest\" xlink:href=\"psysml:c2796ff3-91b7-4224-b876-5fbe500c9041\" xlink:show=\"new\" xlink:title=\"psysml:c2796ff3-91b7-4224-b876-5fbe500c9041\" xlink:type=\"simple\"><polygon fill=\"none\" points=\"16,6,99,6,106,29.6094,298,29.6094,298,266,16,266,16,6\" style=\"stroke:#000000;stroke-width:1.5;\"/><line style=\"stroke:#000000;stroke-width:1.5;\" x1=\"16\" x2=\"106\" y1=\"29.6094\" y2=\"29.6094\"/><text fill=\"#000000\" font-family=\"sans-serif\" font-size=\"14\" font-weight=\"bold\" lengthAdjust=\"spacing\" textLength=\"77\" x=\"20\" y=\"22.5332\">Yashwanth</text></a></g><!--MD5=[b4997ac47864f28c2f74865a473b2911]\n",
       "class E2--><a href=\"psysml:0a2dad50-4e47-4cf4-91b5-f8420f5b81b3\" target=\"_top\" title=\"psysml:0a2dad50-4e47-4cf4-91b5-f8420f5b81b3\" xlink:actuate=\"onRequest\" xlink:href=\"psysml:0a2dad50-4e47-4cf4-91b5-f8420f5b81b3\" xlink:show=\"new\" xlink:title=\"psysml:0a2dad50-4e47-4cf4-91b5-f8420f5b81b3\" xlink:type=\"simple\"><g id=\"elem_E2\"><rect fill=\"#FFFFFF\" height=\"96.9656\" id=\"E2\" style=\"stroke:#181818;stroke-width:0.5;\" width=\"89\" x=\"112.5\" y=\"153\"/><text fill=\"#000000\" font-family=\"sans-serif\" font-size=\"12\" font-style=\"italic\" lengthAdjust=\"spacing\" textLength=\"58\" x=\"128\" y=\"170.457\">«part  def»</text><text fill=\"#000000\" font-family=\"sans-serif\" font-size=\"14\" lengthAdjust=\"spacing\" textLength=\"46\" x=\"134\" y=\"187.627\">Vehicle</text><line style=\"stroke:#181818;stroke-width:0.5;\" x1=\"113.5\" x2=\"200.5\" y1=\"195.7031\" y2=\"195.7031\"/><text fill=\"#000000\" font-family=\"sans-serif\" font-size=\"14\" lengthAdjust=\"spacing\" textLength=\"76\" x=\"118.5\" y=\"225.2801\">length: Real</text><text fill=\"#000000\" font-family=\"sans-serif\" font-size=\"14\" lengthAdjust=\"spacing\" textLength=\"77\" x=\"118.5\" y=\"242.8895\">weight: Real</text><text fill=\"#000000\" font-family=\"sans-serif\" font-size=\"14\" font-style=\"italic\" lengthAdjust=\"spacing\" textLength=\"59\" x=\"127.5\" y=\"208.9316\">attributes</text></g></a><!--MD5=[09b614a08d8cba4a07c9adeb5e0fee81]\n",
       "class E3--><a href=\"psysml:d2e776e8-3bfb-422c-bf20-b212942f644c\" target=\"_top\" title=\"psysml:d2e776e8-3bfb-422c-bf20-b212942f644c\" xlink:actuate=\"onRequest\" xlink:href=\"psysml:d2e776e8-3bfb-422c-bf20-b212942f644c\" xlink:show=\"new\" xlink:title=\"psysml:d2e776e8-3bfb-422c-bf20-b212942f644c\" xlink:type=\"simple\"><g id=\"elem_E3\"><rect fill=\"#FFFFFF\" height=\"50.7031\" id=\"E3\" style=\"stroke:#181818;stroke-width:0.5;\" width=\"60\" x=\"222\" y=\"42\"/><text fill=\"#000000\" font-family=\"sans-serif\" font-size=\"12\" font-style=\"italic\" lengthAdjust=\"spacing\" textLength=\"58\" x=\"223\" y=\"59.457\">«part  def»</text><text fill=\"#000000\" font-family=\"sans-serif\" font-size=\"14\" lengthAdjust=\"spacing\" textLength=\"23\" x=\"240.5\" y=\"76.627\">Car</text><line style=\"stroke:#181818;stroke-width:0.5;\" x1=\"223\" x2=\"281\" y1=\"84.7031\" y2=\"84.7031\"/></g></a><!--MD5=[ebbe1d658d1005bcc118a6aa81145e00]\n",
       "class E4--><a href=\"psysml:e9165645-a64d-4406-b266-28bbe5bd3643\" target=\"_top\" title=\"psysml:e9165645-a64d-4406-b266-28bbe5bd3643\" xlink:actuate=\"onRequest\" xlink:href=\"psysml:e9165645-a64d-4406-b266-28bbe5bd3643\" xlink:show=\"new\" xlink:title=\"psysml:e9165645-a64d-4406-b266-28bbe5bd3643\" xlink:type=\"simple\"><g id=\"elem_E4\"><rect fill=\"#FFFFFF\" height=\"50.7031\" id=\"E4\" style=\"stroke:#181818;stroke-width:0.5;\" width=\"60\" x=\"127\" y=\"42\"/><text fill=\"#000000\" font-family=\"sans-serif\" font-size=\"12\" font-style=\"italic\" lengthAdjust=\"spacing\" textLength=\"58\" x=\"128\" y=\"59.457\">«part  def»</text><text fill=\"#000000\" font-family=\"sans-serif\" font-size=\"14\" lengthAdjust=\"spacing\" textLength=\"27\" x=\"143.5\" y=\"76.627\">Bike</text><line style=\"stroke:#181818;stroke-width:0.5;\" x1=\"128\" x2=\"186\" y1=\"84.7031\" y2=\"84.7031\"/></g></a><!--MD5=[270fce915f116d4de14055a7c1d9a0f3]\n",
       "class E5--><a href=\"psysml:4b442091-4aed-429f-becb-5fefbb238e7f\" target=\"_top\" title=\"psysml:4b442091-4aed-429f-becb-5fefbb238e7f\" xlink:actuate=\"onRequest\" xlink:href=\"psysml:4b442091-4aed-429f-becb-5fefbb238e7f\" xlink:show=\"new\" xlink:title=\"psysml:4b442091-4aed-429f-becb-5fefbb238e7f\" xlink:type=\"simple\"><g id=\"elem_E5\"><rect fill=\"#FFFFFF\" height=\"50.7031\" id=\"E5\" style=\"stroke:#181818;stroke-width:0.5;\" width=\"60\" x=\"32\" y=\"42\"/><text fill=\"#000000\" font-family=\"sans-serif\" font-size=\"12\" font-style=\"italic\" lengthAdjust=\"spacing\" textLength=\"58\" x=\"33\" y=\"59.457\">«part  def»</text><text fill=\"#000000\" font-family=\"sans-serif\" font-size=\"14\" lengthAdjust=\"spacing\" textLength=\"33\" x=\"45.5\" y=\"76.627\">Train</text><line style=\"stroke:#181818;stroke-width:0.5;\" x1=\"33\" x2=\"91\" y1=\"84.7031\" y2=\"84.7031\"/></g></a><!--MD5=[05d275557350bfb9b23a4ef7222b4c39]\n",
       "link E3 to E2--><g id=\"link_E3_E2\"><a href=\"psysml:0537bbba-3f88-4454-bb16-3a999970a803\" target=\"_top\" title=\"psysml:0537bbba-3f88-4454-bb16-3a999970a803\" xlink:actuate=\"onRequest\" xlink:href=\"psysml:0537bbba-3f88-4454-bb16-3a999970a803\" xlink:show=\"new\" xlink:title=\"psysml:0537bbba-3f88-4454-bb16-3a999970a803\" xlink:type=\"simple\"><path d=\"M234.35,93.02 C225.49,105.34 214.29,120.9 203.18,136.33 \" fill=\"none\" id=\"E3-to-E2\" style=\"stroke:#181818;stroke-width:1.0;\"/><polygon fill=\"none\" points=\"208.65,140.71,191.29,152.86,197.29,132.54,208.65,140.71\" style=\"stroke:#181818;stroke-width:1.0;\"/></a></g><!--MD5=[185131fc0dcab0a4505a2ebe144e961b]\n",
       "link E4 to E2--><g id=\"link_E4_E2\"><a href=\"psysml:94c34ed9-3613-42df-ae24-120533b60d9a\" target=\"_top\" title=\"psysml:94c34ed9-3613-42df-ae24-120533b60d9a\" xlink:actuate=\"onRequest\" xlink:href=\"psysml:94c34ed9-3613-42df-ae24-120533b60d9a\" xlink:show=\"new\" xlink:title=\"psysml:94c34ed9-3613-42df-ae24-120533b60d9a\" xlink:type=\"simple\"><path d=\"M157,93.02 C157,104.29 157,118.28 157,132.39 \" fill=\"none\" id=\"E4-to-E2\" style=\"stroke:#181818;stroke-width:1.0;\"/><polygon fill=\"none\" points=\"164,132.86,157,152.86,150,132.86,164,132.86\" style=\"stroke:#181818;stroke-width:1.0;\"/></a></g><!--MD5=[15ebcb19ae302d9b601edb458606d402]\n",
       "link E5 to E2--><g id=\"link_E5_E2\"><a href=\"psysml:c319a1c6-d1ca-4e44-a7d2-d5f27d9226d6\" target=\"_top\" title=\"psysml:c319a1c6-d1ca-4e44-a7d2-d5f27d9226d6\" xlink:actuate=\"onRequest\" xlink:href=\"psysml:c319a1c6-d1ca-4e44-a7d2-d5f27d9226d6\" xlink:show=\"new\" xlink:title=\"psysml:c319a1c6-d1ca-4e44-a7d2-d5f27d9226d6\" xlink:type=\"simple\"><path d=\"M79.65,93.02 C88.51,105.34 99.71,120.9 110.82,136.33 \" fill=\"none\" id=\"E5-to-E2\" style=\"stroke:#181818;stroke-width:1.0;\"/><polygon fill=\"none\" points=\"116.71,132.54,122.71,152.86,105.35,140.71,116.71,132.54\" style=\"stroke:#181818;stroke-width:1.0;\"/></a></g><!--MD5=[141cc9a8f13e3d2a5960ca5fd3002a1c]\n",
       "@startuml\r\n",
       "skin sysmlbw\r\n",
       "skinparam monochrome true\r\n",
       "skinparam wrapWidth 300\r\n",
       "hide circle\r\n",
       "\r\n",
       "package \"Yashwanth\" as E1  [[psysml:c2796ff3-91b7-4224-b876-5fbe500c9041 ]]  {\r\n",
       "comp def \"Vehicle\" as E2  <<(T,blue) part  def>> [[psysml:0a2dad50-4e47-4cf4-91b5-f8420f5b81b3 ]] {\r\n",
       "##//attributes//##\r\n",
       "length: Real\r\n",
       "weight: Real\r\n",
       "}\r\n",
       "comp def \"Car\" as E3  <<(T,blue) part  def>> [[psysml:d2e776e8-3bfb-422c-bf20-b212942f644c ]] {\r\n",
       "}\r\n",
       "comp def \"Bike\" as E4  <<(T,blue) part  def>> [[psysml:e9165645-a64d-4406-b266-28bbe5bd3643 ]] {\r\n",
       "}\r\n",
       "comp def \"Train\" as E5  <<(T,blue) part  def>> [[psysml:4b442091-4aed-429f-becb-5fefbb238e7f ]] {\r\n",
       "}\r\n",
       "}\r\n",
       "E3 - -|> E2 [[psysml:0537bbba-3f88-4454-bb16-3a999970a803 ]] \r\n",
       "E4 - -|> E2 [[psysml:94c34ed9-3613-42df-ae24-120533b60d9a ]] \r\n",
       "E5 - -|> E2 [[psysml:c319a1c6-d1ca-4e44-a7d2-d5f27d9226d6 ]] \r\n",
       "@enduml\r\n",
       "\n",
       "PlantUML version 1.2022.7(Mon Aug 22 22:31:30 IST 2022)\n",
       "(EPL source distribution)\n",
       "Java Runtime: OpenJDK Runtime Environment\n",
       "JVM: OpenJDK 64-Bit Server VM\n",
       "Default Encoding: Cp1252\n",
       "Language: en\n",
       "Country: IN\n",
       "--></g></svg>"
      ]
     },
     "execution_count": 24,
     "metadata": {},
     "output_type": "execute_result"
    }
   ],
   "source": [
    "%viz --view=tree Yashwanth "
   ]
  },
  {
   "cell_type": "code",
   "execution_count": null,
   "id": "7e4852a0",
   "metadata": {},
   "outputs": [],
   "source": []
  },
  {
   "cell_type": "code",
   "execution_count": null,
   "id": "32f138b2",
   "metadata": {},
   "outputs": [],
   "source": []
  }
 ],
 "metadata": {
  "kernelspec": {
   "display_name": "SysML",
   "language": "sysml",
   "name": "sysml"
  },
  "language_info": {
   "codemirror_mode": "sysml",
   "file_extension": ".sysml",
   "mimetype": "text/x-sysml",
   "name": "SysML",
   "pygments_lexer": "java",
   "version": "1.0.0"
  }
 },
 "nbformat": 4,
 "nbformat_minor": 5
}
